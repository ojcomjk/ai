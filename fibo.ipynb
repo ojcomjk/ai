{
  "nbformat": 4,
  "nbformat_minor": 0,
  "metadata": {
    "colab": {
      "name": "fibo.ipynb",
      "provenance": [],
      "authorship_tag": "ABX9TyMSXhNMfQYPzjemFq6bXz7/",
      "include_colab_link": true
    },
    "kernelspec": {
      "name": "python3",
      "display_name": "Python 3"
    },
    "language_info": {
      "name": "python"
    }
  },
  "cells": [
    {
      "cell_type": "markdown",
      "metadata": {
        "id": "view-in-github",
        "colab_type": "text"
      },
      "source": [
        "<a href=\"https://colab.research.google.com/github/ojcomjk/ai/blob/main/fibo.ipynb\" target=\"_parent\"><img src=\"https://colab.research.google.com/assets/colab-badge.svg\" alt=\"Open In Colab\"/></a>"
      ]
    },
    {
      "cell_type": "code",
      "execution_count": null,
      "metadata": {
        "id": "9tOO3b-F9di8"
      },
      "outputs": [],
      "source": [
        ""
      ]
    },
    {
      "cell_type": "code",
      "source": [
        "while True:\n",
        "    a = 1\n",
        "    b = 1\n",
        "    i = 0\n",
        "    c = 0\n",
        "    print (\"피보나치 수열에서 항의 위치를 입력하세요.\")\n",
        "    loc = int(input('항의 위치 : '))\n",
        "\n",
        "    for i in range(1,loc-1,1):\n",
        "        c = a + b\n",
        "        a = b\n",
        "        b = c\n",
        "    print (\"피보나치 수열의\",loc,\"번째 항의 값은 \",c,\"입니다.\")\n"
      ],
      "metadata": {
        "colab": {
          "base_uri": "https://localhost:8080/"
        },
        "id": "lVWB11FN9eil",
        "outputId": "a36a83e6-1f07-491b-8887-035f371a3e15"
      },
      "execution_count": null,
      "outputs": [
        {
          "output_type": "stream",
          "name": "stdout",
          "text": [
            "피보나치 수열에서 항의 위치를 입력하세요.\n",
            "항의 위치 : 10\n",
            "피보나치 수열의 10 번째 항의 값은  55 입니다.\n",
            "피보나치 수열에서 항의 위치를 입력하세요.\n"
          ]
        }
      ]
    }
  ]
}